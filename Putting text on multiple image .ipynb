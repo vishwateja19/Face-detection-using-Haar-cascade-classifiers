{
 "cells": [
  {
   "cell_type": "markdown",
   "id": "5fdf6208",
   "metadata": {},
   "source": [
    "### Multiple faces detection and boxing the faces using open cv"
   ]
  },
  {
   "cell_type": "code",
   "execution_count": 4,
   "id": "74c58189",
   "metadata": {},
   "outputs": [
    {
     "ename": "error",
     "evalue": "OpenCV(4.7.0) D:\\a\\opencv-python\\opencv-python\\opencv\\modules\\objdetect\\src\\cascadedetect.cpp:1703: error: (-215:Assertion failed) !empty() in function 'cv::CascadeClassifier::detectMultiScale'\n",
     "output_type": "error",
     "traceback": [
      "\u001b[1;31m---------------------------------------------------------------------------\u001b[0m",
      "\u001b[1;31merror\u001b[0m                                     Traceback (most recent call last)",
      "Input \u001b[1;32mIn [4]\u001b[0m, in \u001b[0;36m<cell line: 10>\u001b[1;34m()\u001b[0m\n\u001b[0;32m      8\u001b[0m \u001b[38;5;66;03m## applying the image on xml maths file for face detection\u001b[39;00m\n\u001b[0;32m      9\u001b[0m model\u001b[38;5;241m=\u001b[39mcv2\u001b[38;5;241m.\u001b[39mCascadeClassifier(\u001b[38;5;124m'\u001b[39m\u001b[38;5;124m./haarcascade_frontalface_default.xml\u001b[39m\u001b[38;5;124m'\u001b[39m)\n\u001b[1;32m---> 10\u001b[0m cordinates,no_of_faces\u001b[38;5;241m=\u001b[39m\u001b[43mmodel\u001b[49m\u001b[38;5;241;43m.\u001b[39;49m\u001b[43mdetectMultiScale2\u001b[49m\u001b[43m(\u001b[49m\u001b[43mimage\u001b[49m\u001b[43m)\u001b[49m\n\u001b[0;32m     12\u001b[0m \u001b[38;5;28;01mif\u001b[39;00m \u001b[38;5;28mlen\u001b[39m(no_of_faces)\u001b[38;5;241m>\u001b[39m\u001b[38;5;241m0\u001b[39m:\n\u001b[0;32m     13\u001b[0m     \u001b[38;5;28;01mfor\u001b[39;00m i \u001b[38;5;129;01min\u001b[39;00m \u001b[38;5;28mrange\u001b[39m(\u001b[38;5;28mlen\u001b[39m(no_of_faces)):\n",
      "\u001b[1;31merror\u001b[0m: OpenCV(4.7.0) D:\\a\\opencv-python\\opencv-python\\opencv\\modules\\objdetect\\src\\cascadedetect.cpp:1703: error: (-215:Assertion failed) !empty() in function 'cv::CascadeClassifier::detectMultiScale'\n"
     ]
    }
   ],
   "source": [
    "import numpy as np\n",
    "import cv2\n",
    "\n",
    "\n",
    "image=cv2.imread('./berkeley_faces.jpg')\n",
    "\n",
    "\n",
    "## applying the image on xml maths file for face detection\n",
    "model=cv2.CascadeClassifier('./haarcascade_frontalface_default.xml')\n",
    "cordinates,no_of_faces=model.detectMultiScale2(image)\n",
    "\n",
    "if len(no_of_faces)>0:\n",
    "    for i in range(len(no_of_faces)):\n",
    "        sol=cordinates[i]\n",
    "        pt1=(sol[0],sol[1])\n",
    "        pt2=(sol[2]+sol[0],sol[3]+sol[1])\n",
    "        cv2.rectangle(image,pt1,pt2,(0,0,0),2)\n",
    "        text='no of faces :'+ str(len(no_of_faces))\n",
    "        font=cv2.FONT_HERSHEY_COMPLEX\n",
    "        cv2.putText(image,text,(70,10),font,.5,(0,0,255),1)\n",
    "        cv2.imshow('image',image)\n",
    "\n",
    "else:\n",
    "    print('no image detected')\n",
    "\n",
    "cv2.imshow('image',image)\n",
    "cv2.waitKey()\n",
    "cv2.destroyAllWindows()"
   ]
  },
  {
   "cell_type": "code",
   "execution_count": null,
   "id": "fc23dc74",
   "metadata": {},
   "outputs": [],
   "source": []
  }
 ],
 "metadata": {
  "kernelspec": {
   "display_name": "Python 3 (ipykernel)",
   "language": "python",
   "name": "python3"
  },
  "language_info": {
   "codemirror_mode": {
    "name": "ipython",
    "version": 3
   },
   "file_extension": ".py",
   "mimetype": "text/x-python",
   "name": "python",
   "nbconvert_exporter": "python",
   "pygments_lexer": "ipython3",
   "version": "3.9.12"
  }
 },
 "nbformat": 4,
 "nbformat_minor": 5
}
